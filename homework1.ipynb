{
 "cells": [
  {
   "cell_type": "markdown",
   "metadata": {},
   "source": [
    "## Задание 1. \n",
    "### Даны 2 переменных, в которых хранятся строки произвольной длины: phrase_1 и phrase_2. Напишите код, который проверяет какая из этих строк длиннее."
   ]
  },
  {
   "cell_type": "code",
   "execution_count": 44,
   "metadata": {},
   "outputs": [
    {
     "name": "stdout",
     "output_type": "stream",
     "text": [
      "Введите первую строку 2424234\n",
      "Введите вторую строку 234234234cvxcvxvxvc\n",
      "Фраза 2 длиннее фразы 1\n"
     ]
    }
   ],
   "source": [
    "phrase_1 =input('Введите первую строку ')\n",
    "phrase_2 =input('Введите вторую строку ')\n",
    "#print('Первая строка: '+phrase_1, 'вторая строка: '+phrase_2)\n",
    "if len(phrase_1)>len(phrase_2):\n",
    "    print('Фраза 1 длиннее фразы 2')\n",
    "elif len(phrase_1)<len(phrase_2):\n",
    "    print('Фраза 2 длиннее фразы 1')\n",
    "else:\n",
    "    print('Фразы равной длины')"
   ]
  },
  {
   "cell_type": "markdown",
   "metadata": {},
   "source": [
    "## Задание 2\n",
    "### Дана переменная, в которой хранится четырехзначное число (год). Необходимо написать программу, которая выведет, является ли данный год високосным или обычным."
   ]
  },
  {
   "cell_type": "markdown",
   "metadata": {},
   "source": [
    "- год, номер которого кратен 400, — високосный;\n",
    "- остальные годы, номер которых кратен 100, — невисокосные (например, годы 1700, 1800, 1900, 2100, 2200, 2300);\n",
    "- остальные годы, номер которых кратен 4, — високосные."
   ]
  },
  {
   "cell_type": "code",
   "execution_count": 65,
   "metadata": {},
   "outputs": [
    {
     "name": "stdout",
     "output_type": "stream",
     "text": [
      "Введите год (4 цифры): 2003\n",
      "Год невисокосный\n"
     ]
    }
   ],
   "source": [
    "year = int(input('Введите год (4 цифры): '))\n",
    "\n",
    "if year%400==0 or (year%100!=0 and year%4==0):\n",
    "    print('Год високосный')\n",
    "else:\n",
    "    print('Год невисокосный')"
   ]
  },
  {
   "cell_type": "markdown",
   "metadata": {},
   "source": [
    "## Задание 3\n",
    "### Необходимо написать программу, которая будет запрашивать у пользователя месяц и дату рождения и выводить соответствующий знак зодиака."
   ]
  },
  {
   "cell_type": "code",
   "execution_count": 101,
   "metadata": {},
   "outputs": [
    {
     "name": "stdout",
     "output_type": "stream",
     "text": [
      "Введите день рождения (1 или 2 цифры) 31\n",
      "Введите название месяца на русском языке август\n",
      "Дева\n"
     ]
    }
   ],
   "source": [
    "day=int(input('Введите день рождения (1 или 2 цифры) '))\n",
    "month_name=input('Введите название месяца на русском языке ').lower()\n",
    "#псевдо-валидация, много не рассмотрено. Правильнее было бы вместо свободного инпута использовать выбор из списка\n",
    "valid = (\n",
    "    month_name in ['январь', 'март','май', 'июль', 'август', 'октябрь', 'декабрь'] and 1<=day<=31\n",
    ") or (\n",
    "    month_name in ['апрель', 'июнь','сентябрь', 'ноябрь'] and 1<=day<=30\n",
    ") or (\n",
    "    month_name=='февраль' and 1<=day<=29\n",
    ")\n",
    "\n",
    "if valid:\n",
    "    if (day>=21 and month_name=='март') or (day<=20 and month_name=='апрель'):\n",
    "        print('Овен')\n",
    "    elif (day>=21 and month_name=='апрель') or (day<=21 and month_name=='май'):\n",
    "        print('Телец')\n",
    "    elif (day>=22 and month_name=='май') or (day<=21 and month_name=='июнь'):\n",
    "        print('Близнецы')\n",
    "    elif (day>=22 and month_name=='июнь') or (day<=22 and month_name=='июль'):\n",
    "        print('Рак')\n",
    "    elif (day>=23 and month_name=='июль') or (day<=21 and month_name=='август'):\n",
    "        print('Лев')\n",
    "    elif (day>=22 and month_name=='август') or (day<=23 and month_name=='сентябрь'):\n",
    "        print('Дева')\n",
    "    elif (day>=24 and month_name=='сентябрь') or (day<=23 and month_name=='октябрь'):\n",
    "        print('Весы')\n",
    "    elif (day>=24 and month_name=='октябрь') or (day<=22 and month_name=='ноябрь'):\n",
    "        print('Скорпион')\n",
    "    elif (day>=23 and month_name=='ноябрь') or (day<=22 and month_name=='декабрь'):\n",
    "        print('Стрелец')\n",
    "    elif (day>=23 and month_name=='декабрь') or (day<=20 and month_name=='январь'):\n",
    "        print('Козерог')\n",
    "    elif (day>=21 and month_name=='январь') or (day<=19 and month_name=='февраль'):\n",
    "        print('Водолей')\n",
    "    elif (day>=20 and month_name=='февраль') or (day<=20 and month_name=='март'):\n",
    "        print('Рыбы')\n",
    "else:\n",
    "    print('Введены некорректные значения')\n"
   ]
  },
  {
   "cell_type": "markdown",
   "metadata": {},
   "source": [
    "## Задание 4\n",
    "### Вам нужно написать программу для подбора упаковок по размерам товара. Размеры хранятся в переменных (в сантиметрах):"
   ]
  },
  {
   "cell_type": "code",
   "execution_count": 109,
   "metadata": {},
   "outputs": [
    {
     "name": "stdout",
     "output_type": "stream",
     "text": [
      "Введите ширину в см (только цифры) 35\n",
      "Введите длину в см (только цифры) 190\n",
      "Введите высоту в см (только цифры) 1\n",
      "коробка 2\n"
     ]
    }
   ],
   "source": [
    "width =int(input('Введите ширину в см (только цифры) '))\n",
    "length =int(input('Введите длину в см (только цифры) '))\n",
    "height =int(input('Введите высоту в см (только цифры) '))\n",
    "if max(width,length,height)>200: \n",
    "    #по условиям задачи только длина больше 2м, но так как что считать длиной, \n",
    "    #а что высотой - условно, то правильне будет \"одна сторона больше 2 м\"\n",
    "    print('упаковка для лыж')\n",
    "elif 15<width<50 or  15<length<50 or 15<height<50:\n",
    "    #вообще, условие \"если хотя бы одно из измерений больше 15 см, но менее 50 см...\" представляется очень странным\n",
    "    #т.к. под него подходят и товары размером 30x1x1, и 30x200x200. Но формально следует условию:\n",
    "    print('коробка 2')\n",
    "elif max(width,length,height)<=15:\n",
    "        #в условии меньше, но логично задать меньше или равно\n",
    "    print('коробка 1')\n",
    "else:\n",
    "    print('Стандартная коробка №3')\n",
    "\n"
   ]
  },
  {
   "cell_type": "markdown",
   "metadata": {},
   "source": [
    "## Задание 5\n",
    "### Дана переменная, в которой хранится шестизначное число (номер проездного билета). Напишите программу, которая будет определять, является ли данный билет “счастливым”. Билет считается счастливым, если сумма первых трех цифр совпадает с суммой последних трех цифр номера."
   ]
  },
  {
   "cell_type": "code",
   "execution_count": 121,
   "metadata": {},
   "outputs": [
    {
     "name": "stdout",
     "output_type": "stream",
     "text": [
      "Введите целое шестизначное число(номер билета) 123456\n",
      "несчастливый\n"
     ]
    }
   ],
   "source": [
    "number =int(input('Введите целое шестизначное число(номер билета) '))\n",
    "d1=number%10\n",
    "d2=(number//10)%10\n",
    "d3=(number//100)%10\n",
    "d4=(number//1000)%10\n",
    "d5=(number//10000)%10\n",
    "d6=(number//100000)%10\n",
    "if d1+d2+d3==d4+d5+d6:\n",
    "    print('счастливый')\n",
    "else:\n",
    "    print('несчастливый')"
   ]
  },
  {
   "cell_type": "markdown",
   "metadata": {},
   "source": [
    "## Задание 6\n",
    "### Напишите программу, которая сможет вычислять площади трех фигур (круг, треугольник и прямоугольник). Тип фигуры запрашиваем через пользовательский ввод, после чего делаем запрос характеристик фигуры:\n",
    "\n",
    "- если пользователь выбрал круг, запрашиваем его радиус,\n",
    "- если треугольник – длины трех его сторон;\n",
    "- если прямоугольник – длины двух его сторон."
   ]
  },
  {
   "cell_type": "code",
   "execution_count": null,
   "metadata": {},
   "outputs": [],
   "source": [
    "import math"
   ]
  },
  {
   "cell_type": "code",
   "execution_count": 134,
   "metadata": {},
   "outputs": [
    {
     "name": "stdout",
     "output_type": "stream",
     "text": [
      "Введите тип фигуры: круг, треугольник, прямоугольник: треугольник\n",
      "a=3\n",
      "b=4\n",
      "c=5\n",
      "Площадь= 6.0\n"
     ]
    }
   ],
   "source": [
    "type=input('Введите тип фигуры: круг, треугольник, прямоугольник: ').lower()\n",
    "if type=='круг':\n",
    "    radius=int(input('Введите радиус (только число): '))\n",
    "    print('Площадь=', math.pi*radius**2)\n",
    "elif type=='треугольник':\n",
    "    a = int(input(\"a=\"))\n",
    "    b = int(input(\"b=\"))\n",
    "    c = int(input(\"c=\"))\n",
    "    p = (a+b+c)/2\n",
    "    print('Площадь=', math.sqrt(p*(p-a)*(p-b)*(p-c)))\n",
    "elif type=='прямоугольник':\n",
    "    a = int(input(\"a=\"))\n",
    "    b = int(input(\"b=\"))\n",
    "    print('Площадь=',a*b)\n",
    "else:\n",
    "    print('введена некорректная фигура')"
   ]
  },
  {
   "cell_type": "code",
   "execution_count": 123,
   "metadata": {},
   "outputs": [],
   "source": []
  }
 ],
 "metadata": {
  "kernelspec": {
   "display_name": "Python 3",
   "language": "python",
   "name": "python3"
  },
  "language_info": {
   "codemirror_mode": {
    "name": "ipython",
    "version": 3
   },
   "file_extension": ".py",
   "mimetype": "text/x-python",
   "name": "python",
   "nbconvert_exporter": "python",
   "pygments_lexer": "ipython3",
   "version": "3.7.4"
  }
 },
 "nbformat": 4,
 "nbformat_minor": 4
}
