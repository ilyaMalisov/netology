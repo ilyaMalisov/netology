{
 "cells": [
  {
   "cell_type": "markdown",
   "id": "a6b76ec8",
   "metadata": {},
   "source": [
    "# Задача 1"
   ]
  },
  {
   "cell_type": "code",
   "execution_count": 1,
   "id": "a0fdf873",
   "metadata": {},
   "outputs": [],
   "source": [
    "# перечень всех документов\n",
    "documents = [\n",
    " {'type': 'passport', 'number': '2207 876234', 'name': 'Василий Гупкин'},\n",
    " {'type': 'invoice', 'number': '11-2', 'name': 'Геннадий Покемонов'},\n",
    " {'type': 'insurance', 'number': '10006', 'name': 'Аристарх Павлов'}\n",
    "]\n",
    "# перечень полок, на которых хранятся документы (если документ есть в documents, то он обязательно должен быть и в directories)\n",
    "directories = {\n",
    " '1': ['2207 876234', '11-2'],\n",
    " '2': ['10006'],\n",
    " '3': []\n",
    "}"
   ]
  },
  {
   "cell_type": "code",
   "execution_count": 2,
   "id": "49713420",
   "metadata": {},
   "outputs": [],
   "source": [
    "def get_number_from_user():\n",
    "    return input('Введите номер документа:') "
   ]
  },
  {
   "cell_type": "code",
   "execution_count": 3,
   "id": "20643348",
   "metadata": {},
   "outputs": [],
   "source": [
    "def get_name_by_number(needed_number):\n",
    "    for doc in documents:\n",
    "        if doc['number'] == needed_number:\n",
    "            return 'Владелец документа: ' + str(doc['name'])\n",
    "    return 'Документ не найден в базе'"
   ]
  },
  {
   "cell_type": "code",
   "execution_count": 4,
   "id": "75479e14",
   "metadata": {},
   "outputs": [],
   "source": [
    "def get_directiry_by_number(needed_number, get_only_number=0):\n",
    "    for dir_number, dir_docs in directories.items():\n",
    "#         print(directory)\n",
    "        for number in dir_docs:\n",
    "            if number == needed_number:\n",
    "                if get_only_number == 1:\n",
    "                    return dir_number\n",
    "                else:\n",
    "                    return \"Документ хранится на полке: \"+dir_number\n",
    "    return 'Документ не найден в базе'"
   ]
  },
  {
   "cell_type": "code",
   "execution_count": 5,
   "id": "ffdb7278",
   "metadata": {},
   "outputs": [],
   "source": [
    "def get_all_info():\n",
    "    return '\\n'.join([\n",
    "        f\"№: {doc['number']}, тип: {doc['type']}, владелец: {doc['name']}, полка хранения: {get_directiry_by_number(doc['number'])}\" \n",
    "        for doc in documents\n",
    "    ])"
   ]
  },
  {
   "cell_type": "code",
   "execution_count": 6,
   "id": "e4b185f8",
   "metadata": {},
   "outputs": [],
   "source": [
    "def change_directories (to_delete):\n",
    "    number = input('Введите номер полки:')\n",
    "    if number in directories:\n",
    "        if to_delete == 1:\n",
    "            if directories[number] == []:\n",
    "                del(directories[number])\n",
    "                _str=\"Полка удалена. \"\n",
    "            else:\n",
    "                 _str=\"На полке есть документа, удалите их перед удалением полки. \"\n",
    "        else:\n",
    "            _str=\"Такая полка уже существует. \"\n",
    "    else:\n",
    "        if to_delete == 1:\n",
    "            _str=\"Такой полки не существует. \"\n",
    "        else:\n",
    "            directories[number] = []\n",
    "            _str=\"Добавлена полка с номером \"+number+\". \"\n",
    "    return f\"{_str}Текущий перечень полок {','.join(directories)}\""
   ]
  },
  {
   "cell_type": "markdown",
   "id": "cab14efa",
   "metadata": {},
   "source": [
    "# Задача 2"
   ]
  },
  {
   "cell_type": "code",
   "execution_count": 7,
   "id": "51e8296b",
   "metadata": {},
   "outputs": [],
   "source": [
    "def doc_exists(needed_number):\n",
    "    for doc in documents:\n",
    "        if needed_number == doc['number']:\n",
    "            return True\n",
    "    return False"
   ]
  },
  {
   "cell_type": "code",
   "execution_count": 8,
   "id": "0b7d996a",
   "metadata": {},
   "outputs": [],
   "source": [
    "def add_new_document():\n",
    "    needed_number=input('Введите номер документа:')\n",
    "    needed_type=input('Введите тип документа:')\n",
    "    needed_owner=input('Введите владельца документа:')\n",
    "    needed_directory=input('Введите номер полки:')\n",
    "    \n",
    "    if doc_exists(needed_number):\n",
    "        _str = \"Такой документ уже сущесвует.\"\n",
    "    elif needed_directory not in directories:\n",
    "        _str = \"Такой полки не существует. Добавьте полку командой ads.\"\n",
    "    else:\n",
    "        documents.append({'type':needed_type, 'number':needed_number, 'name':needed_owner})\n",
    "        directories[needed_directory].append(needed_number)\n",
    "        _str = \"Документ добавлен. \\n\"\n",
    "    return _str + \"Текущий список документов:\\n\"+ get_all_info()"
   ]
  },
  {
   "cell_type": "code",
   "execution_count": 9,
   "id": "da0db8b5",
   "metadata": {},
   "outputs": [],
   "source": [
    "def delete_document():\n",
    "    needed_number = input('Введите номер документа:')\n",
    "    if doc_exists(needed_number):\n",
    "        for doc in documents:\n",
    "            if doc['number'] == needed_number:\n",
    "                documents.remove(doc)\n",
    "                directories[get_directiry_by_number(needed_number,1)].remove(needed_number)\n",
    "                _str = \"Документ удалён\\n\"\n",
    "    else:\n",
    "        _str = \"Документ не найден в базе.\\n\"\n",
    "    return _str + \"Текущий список документов:\\n\" + get_all_info()\n",
    "        "
   ]
  },
  {
   "cell_type": "code",
   "execution_count": 10,
   "id": "fd6449b8",
   "metadata": {},
   "outputs": [],
   "source": [
    "def move_document():\n",
    "    needed_number=input('Введите номер документа:')\n",
    "    needed_directory=input('Введите номер полки:')\n",
    "    if not(doc_exists(needed_number)):\n",
    "        _str='Документ не найден в базе.\\n'\n",
    "    elif needed_directory not in directories:\n",
    "         _str='Такой полки не существует'+','.join(directories)+'\\n'\n",
    "    else:\n",
    "        directories[get_directiry_by_number(needed_number,1)].remove(needed_number)\n",
    "        directories[needed_directory].append(needed_number)\n",
    "        _str='Документ перемещен.\\n'\n",
    "    return _str + \"Текущий список документов:\\n\" + get_all_info()"
   ]
  },
  {
   "cell_type": "code",
   "execution_count": 11,
   "id": "14c324cd",
   "metadata": {},
   "outputs": [],
   "source": [
    "def main():\n",
    "    while True:\n",
    "        cmd = input('Введите команду:')\n",
    "        if cmd == 'p':\n",
    "            print (get_name_by_number(get_number_from_user()))\n",
    "        elif cmd == 's':\n",
    "            print (get_directiry_by_number(get_number_from_user()))\n",
    "        elif cmd == 'l':\n",
    "            print (get_all_info())\n",
    "        elif cmd == 'ads':\n",
    "            print (change_directories(to_delete=0))\n",
    "        elif cmd == 'ds':\n",
    "            print (change_directories(to_delete=1))\n",
    "        elif cmd == 'ad':\n",
    "            print(add_new_document())\n",
    "        elif cmd == 'd':\n",
    "            print(delete_document())\n",
    "        elif cmd == 'm':\n",
    "            print(move_document())       \n",
    "        elif cmd == 'q':\n",
    "            print('программа завершена')\n",
    "            break\n",
    "        else:\n",
    "            print('нет такой команды')"
   ]
  },
  {
   "cell_type": "code",
   "execution_count": 12,
   "id": "1dcd3237",
   "metadata": {
    "scrolled": true
   },
   "outputs": [
    {
     "name": "stdout",
     "output_type": "stream",
     "text": [
      "Введите команду:p\n",
      "Введите номер документа:11-2\n",
      "Владелец документа: Геннадий Покемонов\n",
      "Введите команду:p\n",
      "Введите номер документа:111\n",
      "Документ не найден в базе\n",
      "Введите команду:s\n",
      "Введите номер документа:11-2\n",
      "Документ хранится на полке: 1\n",
      "Введите команду:s\n",
      "Введите номер документа:111\n",
      "Документ не найден в базе\n",
      "Введите команду:l\n",
      "№: 2207 876234, тип: passport, владелец: Василий Гупкин, полка хранения: Документ хранится на полке: 1\n",
      "№: 11-2, тип: invoice, владелец: Геннадий Покемонов, полка хранения: Документ хранится на полке: 1\n",
      "№: 10006, тип: insurance, владелец: Аристарх Павлов, полка хранения: Документ хранится на полке: 2\n",
      "Введите команду:ads\n",
      "Введите номер полки:4\n",
      "Добавлена полка с номером 4. Текущий перечень полок 1,2,3,4\n",
      "Введите команду:ads\n",
      "Введите номер полки:4\n",
      "Такая полка уже существует. Текущий перечень полок 1,2,3,4\n",
      "Введите команду:ds\n",
      "Введите номер полки:4\n",
      "Полка удалена. Текущий перечень полок 1,2,3\n",
      "Введите команду:ds\n",
      "Введите номер полки:5\n",
      "Такой полки не существует. Текущий перечень полок 1,2,3\n",
      "Введите команду:ad\n",
      "Введите номер документа:111\n",
      "Введите тип документа:new\n",
      "Введите владельца документа:ivanov\n",
      "Введите номер полки:3\n",
      "Документ добавлен. \n",
      "Текущий список документов:\n",
      "№: 2207 876234, тип: passport, владелец: Василий Гупкин, полка хранения: Документ хранится на полке: 1\n",
      "№: 11-2, тип: invoice, владелец: Геннадий Покемонов, полка хранения: Документ хранится на полке: 1\n",
      "№: 10006, тип: insurance, владелец: Аристарх Павлов, полка хранения: Документ хранится на полке: 2\n",
      "№: 111, тип: new, владелец: ivanov, полка хранения: Документ хранится на полке: 3\n",
      "Введите команду:ad\n",
      "Введите номер документа:11-2\n",
      "Введите тип документа:new\n",
      "Введите владельца документа:ivanov\n",
      "Введите номер полки:2\n",
      "Такой документ уже сущесвует.Текущий список документов:\n",
      "№: 2207 876234, тип: passport, владелец: Василий Гупкин, полка хранения: Документ хранится на полке: 1\n",
      "№: 11-2, тип: invoice, владелец: Геннадий Покемонов, полка хранения: Документ хранится на полке: 1\n",
      "№: 10006, тип: insurance, владелец: Аристарх Павлов, полка хранения: Документ хранится на полке: 2\n",
      "№: 111, тип: new, владелец: ivanov, полка хранения: Документ хранится на полке: 3\n",
      "Введите команду:ad\n",
      "Введите номер документа:222\n",
      "Введите тип документа:new\n",
      "Введите владельца документа:ivanov\n",
      "Введите номер полки:4\n",
      "Такой полки не существует. Добавьте полку командой ads.Текущий список документов:\n",
      "№: 2207 876234, тип: passport, владелец: Василий Гупкин, полка хранения: Документ хранится на полке: 1\n",
      "№: 11-2, тип: invoice, владелец: Геннадий Покемонов, полка хранения: Документ хранится на полке: 1\n",
      "№: 10006, тип: insurance, владелец: Аристарх Павлов, полка хранения: Документ хранится на полке: 2\n",
      "№: 111, тип: new, владелец: ivanov, полка хранения: Документ хранится на полке: 3\n",
      "Введите команду:d\n",
      "Введите номер документа:111\n",
      "Документ удалён\n",
      "Текущий список документов:\n",
      "№: 2207 876234, тип: passport, владелец: Василий Гупкин, полка хранения: Документ хранится на полке: 1\n",
      "№: 11-2, тип: invoice, владелец: Геннадий Покемонов, полка хранения: Документ хранится на полке: 1\n",
      "№: 10006, тип: insurance, владелец: Аристарх Павлов, полка хранения: Документ хранится на полке: 2\n",
      "Введите команду:d\n",
      "Введите номер документа:111\n",
      "Документ не найден в базе.\n",
      "Текущий список документов:\n",
      "№: 2207 876234, тип: passport, владелец: Василий Гупкин, полка хранения: Документ хранится на полке: 1\n",
      "№: 11-2, тип: invoice, владелец: Геннадий Покемонов, полка хранения: Документ хранится на полке: 1\n",
      "№: 10006, тип: insurance, владелец: Аристарх Павлов, полка хранения: Документ хранится на полке: 2\n",
      "Введите команду:m\n",
      "Введите номер документа:11-2\n",
      "Введите номер полки:3\n",
      "Документ перемещен.\n",
      "Текущий список документов:\n",
      "№: 2207 876234, тип: passport, владелец: Василий Гупкин, полка хранения: Документ хранится на полке: 1\n",
      "№: 11-2, тип: invoice, владелец: Геннадий Покемонов, полка хранения: Документ хранится на полке: 3\n",
      "№: 10006, тип: insurance, владелец: Аристарх Павлов, полка хранения: Документ хранится на полке: 2\n",
      "Введите команду:m\n",
      "Введите номер документа:111\n",
      "Введите номер полки:2\n",
      "Документ не найден в базе.\n",
      "Текущий список документов:\n",
      "№: 2207 876234, тип: passport, владелец: Василий Гупкин, полка хранения: Документ хранится на полке: 1\n",
      "№: 11-2, тип: invoice, владелец: Геннадий Покемонов, полка хранения: Документ хранится на полке: 3\n",
      "№: 10006, тип: insurance, владелец: Аристарх Павлов, полка хранения: Документ хранится на полке: 2\n",
      "Введите команду:m\n",
      "Введите номер документа:11-2\n",
      "Введите номер полки:4\n",
      "Такой полки не существует1,2,3\n",
      "Текущий список документов:\n",
      "№: 2207 876234, тип: passport, владелец: Василий Гупкин, полка хранения: Документ хранится на полке: 1\n",
      "№: 11-2, тип: invoice, владелец: Геннадий Покемонов, полка хранения: Документ хранится на полке: 3\n",
      "№: 10006, тип: insurance, владелец: Аристарх Павлов, полка хранения: Документ хранится на полке: 2\n",
      "Введите команду:a\n",
      "нет такой команды\n",
      "Введите команду:q\n",
      "программа завершена\n"
     ]
    }
   ],
   "source": [
    "main()"
   ]
  }
 ],
 "metadata": {
  "kernelspec": {
   "display_name": "Python 3 (ipykernel)",
   "language": "python",
   "name": "python3"
  },
  "language_info": {
   "codemirror_mode": {
    "name": "ipython",
    "version": 3
   },
   "file_extension": ".py",
   "mimetype": "text/x-python",
   "name": "python",
   "nbconvert_exporter": "python",
   "pygments_lexer": "ipython3",
   "version": "3.9.7"
  }
 },
 "nbformat": 4,
 "nbformat_minor": 5
}
