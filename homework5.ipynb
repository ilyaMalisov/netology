{
 "cells": [
  {
   "cell_type": "code",
   "execution_count": 1,
   "id": "2348d9df",
   "metadata": {},
   "outputs": [],
   "source": [
    "import json"
   ]
  },
  {
   "cell_type": "code",
   "execution_count": 2,
   "id": "c5953c1f",
   "metadata": {},
   "outputs": [],
   "source": [
    "perchases = {}"
   ]
  },
  {
   "cell_type": "code",
   "execution_count": 3,
   "id": "cff3e503",
   "metadata": {},
   "outputs": [],
   "source": [
    "with open('purchase_log.txt', encoding = 'UTF8') as us:\n",
    "    next(us)\n",
    "    for i, line in enumerate(us):\n",
    "        line = json.loads(line)\n",
    "        perchases[line['user_id']] = line['category']"
   ]
  },
  {
   "cell_type": "code",
   "execution_count": 4,
   "id": "c9781bba",
   "metadata": {},
   "outputs": [
    {
     "name": "stdout",
     "output_type": "stream",
     "text": [
      "<class 'dict'>\n",
      "('1840e0b9d4', 'Продукты')\n",
      "('4e4f90fcfb', 'Электроника')\n",
      "('afea8d72fc', 'Электроника')\n",
      "('373a6055fe', 'Бытовая техника')\n",
      "('9b2ab046f3', 'Электроника')\n"
     ]
    }
   ],
   "source": [
    "print(type(perchases))\n",
    "i = 1\n",
    "for elem in perchases.items():\n",
    "    print(elem)\n",
    "    i+=1\n",
    "    if i>5:\n",
    "        break"
   ]
  },
  {
   "cell_type": "code",
   "execution_count": 5,
   "id": "9bce9748",
   "metadata": {},
   "outputs": [
    {
     "name": "stdout",
     "output_type": "stream",
     "text": [
      "99517\n",
      "99517\n"
     ]
    }
   ],
   "source": [
    "#смотрим, есть ли повторения в файле\n",
    "users = perchases.keys()\n",
    "print(len(users))\n",
    "print(len(set(users)))"
   ]
  },
  {
   "cell_type": "code",
   "execution_count": 6,
   "id": "4d3913f9",
   "metadata": {},
   "outputs": [],
   "source": [
    "#значения равны. Вероятно, подразумевается, что при каждом заходе генерируется новый айдишник, \n",
    "#даже если клиент уже что-то покупал. То есть, это айдишник визита"
   ]
  },
  {
   "cell_type": "code",
   "execution_count": 8,
   "id": "45678364",
   "metadata": {},
   "outputs": [],
   "source": [
    "with open('visit_log.csv', encoding = 'UTF8') as vs:\n",
    "    with open('funnel.csv', 'w', encoding = 'UTF8') as fs:\n",
    "        next(vs)\n",
    "        fs.write('user_id, source, perchase\\n')\n",
    "        for line in vs:\n",
    "            visit = line.split(',')\n",
    "            if visit[0] in users:\n",
    "                fs.write(line.strip()+','+perchases[visit[0]]+'\\n')"
   ]
  }
 ],
 "metadata": {
  "kernelspec": {
   "display_name": "Python 3 (ipykernel)",
   "language": "python",
   "name": "python3"
  },
  "language_info": {
   "codemirror_mode": {
    "name": "ipython",
    "version": 3
   },
   "file_extension": ".py",
   "mimetype": "text/x-python",
   "name": "python",
   "nbconvert_exporter": "python",
   "pygments_lexer": "ipython3",
   "version": "3.9.7"
  }
 },
 "nbformat": 4,
 "nbformat_minor": 5
}
