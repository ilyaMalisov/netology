{
 "cells": [
  {
   "cell_type": "code",
   "execution_count": 1,
   "metadata": {},
   "outputs": [],
   "source": [
    "import re"
   ]
  },
  {
   "cell_type": "markdown",
   "metadata": {},
   "source": [
    "# Задание 1"
   ]
  },
  {
   "cell_type": "code",
   "execution_count": 2,
   "metadata": {},
   "outputs": [
    {
     "name": "stdout",
     "output_type": "stream",
     "text": [
      "Проверяемый номер: A222BC96\n",
      "Номер A222BC валиден. Регион: 96\n",
      "\n",
      "Проверяемый номер: АБ22ВВ193\n",
      "Номер не валиден\n",
      "\n"
     ]
    }
   ],
   "source": [
    "def check_validation_of_auto_number(car_id):\n",
    "    regexp = r'^([A-ZАВЕКМНОРСТУХ]\\d{3}[A-ZАВЕКМНОРСТУХ]{2})(\\d{2,3})$'\n",
    "    result = re.findall(regexp, car_id)\n",
    "    print(f'Проверяемый номер: {car_id}')\n",
    "    if len(result) == 1:\n",
    "        print(f'Номер {result[0][0]} валиден. Регион: {result[0][1]}')\n",
    "    else:\n",
    "        print('Номер не валиден')\n",
    "    print('\\r')\n",
    "car_ids = ['A222BC96', 'АБ22ВВ193']\n",
    "for id in car_ids:\n",
    "    check_validation_of_auto_number(id)"
   ]
  },
  {
   "cell_type": "markdown",
   "metadata": {},
   "source": [
    "# Задание 2"
   ]
  },
  {
   "cell_type": "code",
   "execution_count": 3,
   "metadata": {},
   "outputs": [
    {
     "name": "stdout",
     "output_type": "stream",
     "text": [
      "\n",
      "Напишите функцию, которая будет удалять все последовательные повторы слов из заданной строки при помощи регулярных выражений.\n",
      "\n"
     ]
    }
   ],
   "source": [
    "def delete_repeats(some_string):\n",
    "    some_string = re.sub('(\\s)+', r'\\1', some_string) #удаляем двойные пробелы, чтобы замена ниже срабатывала за 1 проход\n",
    "    regexp = r'(\\b\\w+\\b)(\\s\\1)+'\n",
    "    result =  re.sub(regexp, r'\\1', some_string)\n",
    "    #result = re.findall(regexp, some_string)\n",
    "    print(result)\n",
    "\n",
    "delete_repeats('''\n",
    "Напишите функцию функцию, которая будет будет будет будет удалять все все все все последовательные повторы слов из из из из заданной строки строки при помощи регулярных выражений.\n",
    "''')"
   ]
  },
  {
   "cell_type": "markdown",
   "metadata": {},
   "source": [
    "# Задание 3"
   ]
  },
  {
   "cell_type": "code",
   "execution_count": 4,
   "metadata": {},
   "outputs": [
    {
     "name": "stdout",
     "output_type": "stream",
     "text": [
      "Информационные технологии\n",
      "ИТ\n",
      "Near Field Communication\n",
      "NFC\n"
     ]
    }
   ],
   "source": [
    "def make_acronym(some_words):\n",
    "    regexp = r'\\b(\\w)\\w*\\b'\n",
    "    result =  re.findall(regexp, some_words)\n",
    "    print(some_words+'\\r')\n",
    "    print(''.join(result).upper())\n",
    "\n",
    "examples = ['Информационные технологии', 'Near Field Communication']\n",
    "\n",
    "for example in examples:\n",
    "    make_acronym(example)"
   ]
  },
  {
   "cell_type": "markdown",
   "metadata": {},
   "source": [
    "# Задание 4"
   ]
  },
  {
   "cell_type": "code",
   "execution_count": 5,
   "metadata": {},
   "outputs": [
    {
     "name": "stdout",
     "output_type": "stream",
     "text": [
      "ya.ru: 2\n",
      "mail.ru: 1\n",
      "gmail.com: 2\n",
      "test.in: 1\n"
     ]
    }
   ],
   "source": [
    "def count_domens(emails):\n",
    "    emails = ' '.join(emails)\n",
    "    regexp = r'\\b\\w+@(\\w+\\.\\w+)\\b'\n",
    "    result =  re.findall(regexp, emails)\n",
    "    result_set = set(result)\n",
    "    for elem in result_set:\n",
    "        print(f'{elem}: {result.count(elem)}')\n",
    "        \n",
    "example = ['test@gmail.com', 'xyz@test.in', 'test@ya.ru', 'xyz@mail.ru', 'xyz@ya.ru', 'xyz@gmail.com']\n",
    "count_domens(example)"
   ]
  },
  {
   "cell_type": "markdown",
   "metadata": {},
   "source": [
    "# Задание 5"
   ]
  },
  {
   "cell_type": "code",
   "execution_count": 6,
   "metadata": {},
   "outputs": [
    {
     "name": "stdout",
     "output_type": "stream",
     "text": [
      "слов на гласные букв: 9\n",
      "слов на согласные букв: 21\n"
     ]
    }
   ],
   "source": [
    "def vowels_and_consonant_count(some_text):\n",
    "    first_letters = ''.join(re.findall(r'\\b(\\w)\\w*\\b', some_text.upper()))\n",
    "    vowel_letter_count = len(re.findall(r'[AEIOUАИЕЁОУЫЭЮЯ]', first_letters))\n",
    "    print(f'слов на гласные букв: {vowel_letter_count}')\n",
    "    print(f'слов на согласные букв: {len(first_letters) - vowel_letter_count}')\n",
    "\n",
    "vowels_and_consonant_count('Эталонной реализацией Python является интерпретатор CPython, поддерживающий большинство активно используемых платформ. Он распространяется под свободной лицензией Python Software Foundation License, позволяющей использовать его без ограничений в любых приложениях, включая проприетарные.')"
   ]
  },
  {
   "cell_type": "markdown",
   "metadata": {},
   "source": [
    "# Задание 6"
   ]
  },
  {
   "cell_type": "code",
   "execution_count": 7,
   "metadata": {},
   "outputs": [
    {
     "name": "stdout",
     "output_type": "stream",
     "text": [
      "phone = +7 955 555-55-55\n",
      "Результат: +7-955-555-55-55\n",
      "\n",
      "phone = 8(955)555-55-55\n",
      "Результат: +7-955-555-55-55\n",
      "\n",
      "phone = +7 955 555 55 55\n",
      "Результат: +7-955-555-55-55\n",
      "\n",
      "phone = 7(955) 555-55-55\n",
      "Результат: +7-955-555-55-55\n",
      "\n",
      "phone = 423-555-55-5555\n",
      "Номер не валиден\n",
      "\n",
      "phone = 123-456-789\n",
      "Номер не валиден\n",
      "\n"
     ]
    }
   ],
   "source": [
    "def phone_validation(phone):\n",
    "    digits = ''.join(re.findall('\\d', phone))\n",
    "    print(f'phone = {phone}')\n",
    "    if len(digits) == 10 or len(digits) == 11 and digits[0] in ['7','8']:\n",
    "        print(f'Результат: +7-{digits[-10:-7]}-{digits[-7:-4]}-{digits[-4:-2]}-{digits[-2]}{digits[-1]}')\n",
    "    else:\n",
    "        print('Номер не валиден')\n",
    "    print('\\r')\n",
    "examples = ['+7 955 555-55-55', '8(955)555-55-55', '+7 955 555 55 55', '7(955) 555-55-55', '423-555-55-5555', '123-456-789']\n",
    "for example in examples:\n",
    "    phone_validation(example)"
   ]
  }
 ],
 "metadata": {
  "interpreter": {
   "hash": "b8d0ede588d15b89434cd61d7894b7bb4dbe752a5f2a1bd905f19276a50935ce"
  },
  "kernelspec": {
   "display_name": "Python 3.8.1 32-bit",
   "language": "python",
   "name": "python3"
  },
  "language_info": {
   "codemirror_mode": {
    "name": "ipython",
    "version": 3
   },
   "file_extension": ".py",
   "mimetype": "text/x-python",
   "name": "python",
   "nbconvert_exporter": "python",
   "pygments_lexer": "ipython3",
   "version": "3.8.1"
  },
  "orig_nbformat": 4
 },
 "nbformat": 4,
 "nbformat_minor": 2
}
